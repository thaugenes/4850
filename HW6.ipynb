{
  "cells": [
    {
      "cell_type": "markdown",
      "metadata": {
        "id": "view-in-github",
        "colab_type": "text"
      },
      "source": [
        "<a href=\"https://colab.research.google.com/github/thaugenes/4850/blob/main/HW6.ipynb\" target=\"_parent\"><img src=\"https://colab.research.google.com/assets/colab-badge.svg\" alt=\"Open In Colab\"/></a>"
      ]
    },
    {
      "cell_type": "markdown",
      "metadata": {
        "id": "yEYDm_ICb4GC"
      },
      "source": [
        "# ORIE 4580/5580 Assignment 6\n",
        "\n",
        "#### Students: Tor Haugenes (th455) and Jose Osorio (jao82)\n",
        "\n",
        "### Github link: [example Github link](https://github.com/SidBanerjee/ORIE4580-Simulation/blob/main/Notebooks/Unit0-Intro_Demos.ipynb)\n"
      ]
    },
    {
      "cell_type": "markdown",
      "source": [
        "### Instructions\n",
        "\n",
        "\n",
        "* Due Tuesday, November 14, at 11.59am on Gradescope.\n",
        "* Assignment .ipynb files available for download on [Canvas](https://canvas.cornell.edu/courses/56826#:~:text=Assignments-,Assignments,-Assignments%20Module%20publish). Do all your work in provided notebook (text answers typeset in markdown; show all required code and generate plots inline), and then generate and submit a pdf.\n",
        "* Ideally do assignments in groups of 2, and submit a single pdf with both names\n",
        "* Please show your work and clearly mark your answers.\n",
        "* You can use any code fragments given in class, found online (for example, on StackOverflow), or generated via Bard or ChatGPT (you are encouraged to use these for first drafts) **with proper referencing**. You can also discuss with others (again, please reference them if you do so); but you must write your final answers on your own as a team.\n",
        "\n",
        "\n",
        "\n",
        "### Suggested reading\n",
        "\n",
        "[Mor Harchol-Balter's chapter](https://canvas.cornell.edu/courses/56826/files/9180297/download?download_frd=1) on the Poisson process (on Canvas)"
      ],
      "metadata": {
        "id": "l3G_wUFRg9v6"
      }
    },
    {
      "cell_type": "code",
      "source": [
        "from scipy import stats\n",
        "import numpy as np\n",
        "import matplotlib.pyplot as plt"
      ],
      "metadata": {
        "id": "DyrurrixL5jF"
      },
      "execution_count": 2,
      "outputs": []
    },
    {
      "cell_type": "markdown",
      "source": [
        "___\n",
        "___\n",
        "\n",
        "# Question 1: Everyone goes to Gimme! (25 points)\n",
        "\n",
        "The downtown Ithaca Gimme! store sees a Poisson arrival process with rate\n",
        "\n",
        "$$ \\lambda(t)=\\frac{1}{56}\\left(5t^3-90t^2+300t+1480\\right) \\quad \\text{for } 0 \\leq t \\leq 12,$$\n",
        "\n",
        "over the 12 hours on the weekdays it is open.\n"
      ],
      "metadata": {
        "id": "e8ndo1Pm5S9E"
      }
    },
    {
      "cell_type": "markdown",
      "source": [
        "___\n",
        "\n",
        "**(a)** Compute the exact probability that the coffee store will see more than 250 customers in one 12 hour day. Do not use simulation.\n",
        "___\n"
      ],
      "metadata": {
        "id": "F4ENNINL5guU"
      }
    },
    {
      "cell_type": "markdown",
      "source": [
        "## Ans.\n",
        "\n",
        "The total number of arrivals (X) can be expressed as the integral of the rate function:\n",
        "\n",
        "X $= \\int_{0}^{12} \\lambda(t) \\, dt$\n",
        "\n",
        "The probability of more than 250 customers arriving at the Gimme! store within one workday is then:\n",
        "\n",
        "$P(X > 250) = 1 - \\sum_{k=0}^{250} \\frac{e^{-X}X^k}{k!}$\n",
        "\n",
        "where the rate function $\\lambda(t)$ is given in the question formulation above.\n",
        "\n",
        "Therefore (plugging into Wolfram Alpha) we find:\n",
        "\n",
        "X $ =\\int_{0}^{12} 1/56*(5t^3 - 90t^2 + 300t + 1480) = 240$\n",
        "\n",
        "And thus, $P(X > 250) = 1 - \\sum_{k=0}^{250} \\frac{e^{-240}240^k}{k!} = 1 - 0.753 = 0.247$"
      ],
      "metadata": {
        "id": "JISOt5FL5oWO"
      }
    },
    {
      "cell_type": "markdown",
      "source": [
        "___\n",
        "\n",
        "**(b)** Use thinning to simulate 500 replications of the Poisson arrival process. Based on these replications, estimate the probability in Part (a) and report a 95\\% confidence interval.\n",
        "\n",
        "___"
      ],
      "metadata": {
        "id": "J9_Sh_Hf5rca"
      }
    },
    {
      "cell_type": "markdown",
      "source": [
        "## Ans.\n",
        "\n"
      ],
      "metadata": {
        "id": "iZ3iHE745ty7"
      }
    },
    {
      "cell_type": "code",
      "source": [
        "num_sim = 500\n",
        "list1 = []\n",
        "t_values = np.arange(0, 12, 0.0167)  # Time intervals from 0 to 12 hours"
      ],
      "metadata": {
        "id": "22tz0QO9Z5vr"
      },
      "execution_count": 18,
      "outputs": []
    },
    {
      "cell_type": "code",
      "source": [
        "def rate(t):\n",
        "    return 1/56 * (5 * t**3 - 90 * t**2 + 300 * t + 1480)\n",
        "\n",
        "def pois_arrival(rate, time_interval):\n",
        "    poisson_lambda = rate * time_interval\n",
        "    return np.random.poisson(lam = poisson_lambda)"
      ],
      "metadata": {
        "id": "45qmxWiu52Yd"
      },
      "execution_count": 19,
      "outputs": []
    },
    {
      "cell_type": "code",
      "source": [
        "for x in range(num_sim):\n",
        "    numCust = sum([pois_arrival(rate(t), 0.0167) for t in t_values])\n",
        "    list1.append(numCust)\n",
        "\n",
        "array1 = np.array(list1)\n",
        "prob = np.sum(array1 > 250) / num_sim\n",
        "CI = stats.t.interval(0.95, len(array1), loc = prob, scale = stats.sem(array1))\n",
        "CI2 =  np.percentile(array1, [2.5, 97.5])\n",
        "\n",
        "print(\"Estimated Probability:\", prob)\n",
        "print(\"95% Confidence Interval (Probability):\", CI)\n",
        "print(\"95% Confidence Interval (Expected Number of Customers Seen):\", CI2)"
      ],
      "metadata": {
        "colab": {
          "base_uri": "https://localhost:8080/"
        },
        "id": "UNRAzCLxaKJb",
        "outputId": "50062614-429c-4caf-832f-bf1d6b8f06a6"
      },
      "execution_count": 20,
      "outputs": [
        {
          "output_type": "stream",
          "name": "stdout",
          "text": [
            "Estimated Probability: 0.28\n",
            "95% Confidence Interval (Probability): (-1.0275949483435853, 1.5875949483435854)\n",
            "95% Confidence Interval (Expected Number of Customers Seen): [211. 269.]\n"
          ]
        }
      ]
    },
    {
      "cell_type": "markdown",
      "source": [
        "___\n",
        "**(c)** Based on your 500 replications, make a bar plot showing the average number of customers who arrive during each of the twelve hours of operation. Plot the rate function $\\lambda(t)$ and compare.\n",
        "___"
      ],
      "metadata": {
        "id": "atztSUh657dR"
      }
    },
    {
      "cell_type": "markdown",
      "source": [
        "## Ans."
      ],
      "metadata": {
        "id": "uJoZkqXT5_RA"
      }
    },
    {
      "cell_type": "code",
      "source": [
        "hours = 12\n",
        "list_c = []\n",
        "\n",
        "for hr in range(hours):\n",
        "    t_values = np.linspace(hr, hr + 1, 60, endpoint=False)  # Create hourly time intervals\n",
        "    cust_data = []\n",
        "    for x in range(num_sim):\n",
        "        number_cust = sum([pois_arrival(rate(t), 0.0167) for t in t_values])\n",
        "        cust_data.append(number_cust)\n",
        "\n",
        "    avg_cust_hourly = np.mean(cust_data)\n",
        "    list_c.append(avg_cust_hourly)"
      ],
      "metadata": {
        "id": "sqHHYgOf57GQ"
      },
      "execution_count": 21,
      "outputs": []
    },
    {
      "cell_type": "code",
      "source": [
        "# Plotting Results\n",
        "plt.figure(figsize=(10, 10))\n",
        "plt.xlabel('Hour of Operation (0-12)')\n",
        "plt.ylabel('Average Number of Customers')\n",
        "plt.title('Average Customers per Hour vs Rate Function')\n",
        "plt.bar(np.arange(hours), list_c, label='Average Customers per Hour', alpha=0.7)\n",
        "plt.plot(np.arange(hours), [rate(hr) for hr in range(hours)], color='red', label='Rate Function, $\\\\lambda(t)$')\n",
        "plt.legend()\n",
        "plt.show()"
      ],
      "metadata": {
        "colab": {
          "base_uri": "https://localhost:8080/",
          "height": 872
        },
        "id": "S5raVW4GdIlw",
        "outputId": "a7fe5f88-96a6-43ce-81e1-1e2dc5a3f57d"
      },
      "execution_count": 24,
      "outputs": [
        {
          "output_type": "display_data",
          "data": {
            "text/plain": [
              "<Figure size 1000x1000 with 1 Axes>"
            ],
            "image/png": "[encoded data removed]"
          },
          "metadata": {}
        }
      ]
    },
    {
      "cell_type": "markdown",
      "source": [
        "\n",
        "\n",
        "\n",
        "---\n",
        "---\n",
        "\n",
        "\n",
        "# Question 2: Putting my son to bed (30 points)\n",
        "\n",
        "Sid uses a Spotify playlist with $n$ soothing songs to put his son to sleep. He plays the playlist on shuffle, but is worried that some songs may not get played (he spent a long time curating the playlist!).\n",
        "\n",
        "___\n",
        "**(a)**\n",
        "Suppose Spotify truly picks a random song each time -- Sid wants to know how many songs it takes on average to play **every song** on his playlist. Build a simulator to estimate this for a different values of $n$, and use this to try and guess the function.\n",
        "\n",
        "*Note: Try and pick a large range of $n$ to get a sense of the function of number of songs needed to play all vs. $n$ -- if you are adventurous, try to fit the function. Make sure you always show your CIs!*\n",
        "___"
      ],
      "metadata": {
        "id": "5AMJpIgg0AUP"
      }
    },
    {
      "cell_type": "markdown",
      "source": [
        "## Ans.\n"
      ],
      "metadata": {
        "id": "FdZFPY8J00Nz"
      }
    },
    {
      "cell_type": "markdown",
      "source": [
        "___\n",
        "\n",
        "**(b)** On the other hand, Sid has realized that his son wakes up whenever he hears a song that has been played before (clever, isn't he!). Use your previous simulator to figure out how many songs Sid's son hears before he wakes up.\n",
        "\n",
        "___"
      ],
      "metadata": {
        "id": "kHPnqRj105lL"
      }
    },
    {
      "cell_type": "markdown",
      "source": [
        "## Ans.\n",
        "\n"
      ],
      "metadata": {
        "id": "o-b5c59b2CV-"
      }
    },
    {
      "cell_type": "code",
      "source": [],
      "metadata": {
        "id": "mT-3ogKx2Hzl"
      },
      "execution_count": null,
      "outputs": []
    },
    {
      "cell_type": "markdown",
      "source": [
        "___\n",
        "\n",
        "**(c)** Suppose Spotify uses the following poor randomizer: it labels songs as $\\{0,1,2,\\ldots,n-1\\}$, and after playing a song $i$, it then either plays song $(i+1) mod(n)$ or $(i-1)mod(n)$ with probability $1/2$ (i.e., the next or previous song, imagining the songs to be in a ring with $n-1$ wrapping around to $1$). Simulate this randomizer for $n=20$, assuming you always start at song $1$, and find the histogram of the **last song to be played** for the first time using this shuffler.   \n",
        "\n",
        "___"
      ],
      "metadata": {
        "id": "SGw7QR3-2e_3"
      }
    },
    {
      "cell_type": "markdown",
      "source": [
        "## Ans."
      ],
      "metadata": {
        "id": "rbtZKA4I2wzN"
      }
    },
    {
      "cell_type": "code",
      "source": [],
      "metadata": {
        "id": "SdhOiOuZ2yO-"
      },
      "execution_count": null,
      "outputs": []
    },
    {
      "cell_type": "markdown",
      "source": [
        "___\n",
        "\n",
        "**(d) (OPTIONAL)** For the above three questions, try and analytically derive the functions that you should get (and compare)"
      ],
      "metadata": {
        "id": "RtMo9ndo3DbA"
      }
    },
    {
      "cell_type": "markdown",
      "source": [
        "___\n",
        "___\n",
        "\n",
        "# Question 3: The gambler's ruin (20 points)\n",
        "\n",
        "The gambler's ruin is one of the most famous and widely studied models in stochastic processes. Imagine two gamblers $A$ and $B$ are playing a tournament, where they each start with \\$$a$ and \\$$b$ initially, and play a sequence of games, where each game is won by either player with probability $1/2$, with the winner giving \\$$1$ to the loser. Play goes on till one player runs out of money.\n",
        "\n",
        "___\n",
        "\n",
        "**(a)** Simulate this model to find the probability that player $A$ wins the overall tournament. Also, try and derive this analytically, and see how well the two match up.\n",
        "\n",
        "___"
      ],
      "metadata": {
        "id": "Jq3RRJUG2z09"
      }
    },
    {
      "cell_type": "markdown",
      "source": [
        "## Ans."
      ],
      "metadata": {
        "id": "Sor0QvV94lrw"
      }
    },
    {
      "cell_type": "code",
      "source": [],
      "metadata": {
        "id": "7QtijqJS4nsY"
      },
      "execution_count": null,
      "outputs": []
    },
    {
      "cell_type": "markdown",
      "source": [
        "___\n",
        "**(b)** Another question we can ask is how long it takes for the tournament to end. To study this, simulate the gambler's ruin for a range of values of $a$ and $b$, and use this to try and guess the expected time to ruin.\n",
        "\n",
        "*Hint: Convince yourself that the function must be symmetric in $a$ and $b$, so you can assume $a\\leq b$. Try plotting the expected absorption times for selected values of $a$, while varying $b$.*\n",
        "\n",
        "___"
      ],
      "metadata": {
        "id": "yamKqPJe4syT"
      }
    },
    {
      "cell_type": "markdown",
      "source": [
        "## Ans."
      ],
      "metadata": {
        "id": "NOU2vkmw46k1"
      }
    },
    {
      "cell_type": "code",
      "source": [],
      "metadata": {
        "id": "nTPZla0S47HJ"
      },
      "execution_count": null,
      "outputs": []
    },
    {
      "cell_type": "markdown",
      "metadata": {
        "id": "YX0Mw-EVb4GE"
      },
      "source": [
        "___\n",
        "___\n",
        "\n",
        "# Question 4: Simulation assigments take forever (25 points)\n",
        "\n",
        "You are convinced that Simulation homeworks take the longest time compared to all other assignments, while Sid maintains that all assignment times are identically distributed. To decide this debate once and for all, you decide to record how long it takes you to do your assignment, and then survey your friends on how long it took them to do their last assignment until you find someone who took longer$\\ldots$"
      ]
    },
    {
      "cell_type": "markdown",
      "source": [
        "Used ChatGPT for some inspiration on how to get started on each part of this question."
      ],
      "metadata": {
        "id": "Y4A-Fn1bR5l2"
      }
    },
    {
      "cell_type": "markdown",
      "metadata": {
        "id": "Yjy3dHqpb4GF"
      },
      "source": [
        "___\n",
        "\n",
        "**(a)**\n",
        "Suppose Sid is right (!) and all assignment completion times are truly identically distributed. Formally suppose your own assignment takes time (in hours) distributed as $T_0\\sim Exp(0.5)$, and similarly the $i^{th}$ friend you survey also takes time $T_i\\sim Exp(0.5)$, independent of all other friends. Run 100 simulations and report a $95\\%$ CI for the expected number of friends you need to survey to find someone who takes longer.\n",
        "___\n"
      ]
    },
    {
      "cell_type": "markdown",
      "metadata": {
        "id": "wOQnI769b4GF"
      },
      "source": [
        "## Ans.\n"
      ]
    },
    {
      "cell_type": "code",
      "source": [
        "rounds = 100\n",
        "mean_time = 0.5\n",
        "friends_asked = []\n",
        "counter = 0\n",
        "\n",
        "while counter < rounds:\n",
        "  completetime_you = np.random.exponential(scale=mean_time)\n",
        "  # assuming 30 friends on line below #\n",
        "  completetime_friends = np.random.exponential(scale=mean_time, size=30)\n",
        "\n",
        "  index = np.argmax(completetime_friends > completetime_you)\n",
        "  friends_asked.append(index + 1)\n",
        "  counter += 1"
      ],
      "metadata": {
        "id": "nR2voN20LQsN"
      },
      "execution_count": 3,
      "outputs": []
    },
    {
      "cell_type": "code",
      "source": [
        "expectation = np.mean(friends_asked)\n",
        "CI = stats.t.interval(0.95, len(friends_asked), loc = expectation, scale = stats.sem(friends_asked))\n",
        "print(f\"Expected Number of Friends Asked = {expectation}\")\n",
        "print(f\"95% CI = {CI}\")"
      ],
      "metadata": {
        "colab": {
          "base_uri": "https://localhost:8080/"
        },
        "id": "S5kk77T_Nsnu",
        "outputId": "565d3051-eaec-4de2-9d77-7170cc5a61d4"
      },
      "execution_count": 8,
      "outputs": [
        {
          "output_type": "stream",
          "name": "stdout",
          "text": [
            "Expected Number of Friends Asked = 2.31\n",
            "95% CI = (1.6847110848768265, 2.9352889151231736)\n"
          ]
        }
      ]
    },
    {
      "cell_type": "markdown",
      "metadata": {
        "id": "DRpHC9hbb4GF"
      },
      "source": [
        "___\n",
        "\n",
        "**(b)** You are concerned that the CI looks a little wide, so decide to do more replications to fix the problem. Repeat the above simulation with number of replications $n\\in\\{100,500,1000,1500,2000,2500,\\ldots,9500,10000\\}$, and plot the estimates and $95\\%$ CIs.\n",
        "___"
      ]
    },
    {
      "cell_type": "markdown",
      "metadata": {
        "id": "1khe5-56b4GF"
      },
      "source": [
        "## Ans.\n"
      ]
    },
    {
      "cell_type": "code",
      "source": [
        "def q3_plot(replications, meantime, num_sim):\n",
        "  result_accumulator = []\n",
        "  for x in num_sim:\n",
        "    num_friends_asked = []\n",
        "\n",
        "    for y in range(x):\n",
        "      completetime_you = np.random.exponential(scale=meantime)\n",
        "      completetime_friends = np.random.exponential(scale=meantime, size = 30)\n",
        "\n",
        "      index = np.argmax(completetime_friends > completetime_you)\n",
        "      num_friends_asked.append(index + 1)\n",
        "\n",
        "    expectation = np.mean(num_friends_asked)\n",
        "    CI = stats.t.interval(0.95, len(num_friends_asked), loc = expectation, scale = stats.sem(num_friends_asked))\n",
        "\n",
        "    result_accumulator.append((expectation, CI))\n",
        "\n",
        "  estimates = [x[0] for x in result_accumulator]\n",
        "  lowerbounds = [x[1][0] for x in result_accumulator]\n",
        "  upperbounds = [x[1][1] for x in result_accumulator]\n",
        "  # PLOT\n",
        "  plt.figure(figsize=(10,10))\n",
        "  plt.xlabel('# of Simulations')\n",
        "  plt.ylabel('Expected Number of Friends Asked')\n",
        "  plt.title(\"Number of Friends Estimates and 95% CI's vs # of Simulations\")\n",
        "  plt.errorbar(num_sim, estimates, yerr = [estimates[x] - lowerbounds[x] for x in range(len(num_sim))], fmt = 'o-', label = \"estimate\")\n",
        "  plt.legend()\n",
        "  plt.show"
      ],
      "metadata": {
        "id": "00N4KuJqlEHf"
      },
      "execution_count": 11,
      "outputs": []
    },
    {
      "cell_type": "code",
      "source": [
        "replications = 50\n",
        "meantime = 0.5\n",
        "num_sim = [100, 500, 1000, 1500, 2000, 2500, 3000, 3500, 4000, 4500, 5000, 5500, 6000, 6500, 7000, 7500, 8000, 8500, 9000, 9500, 10000]\n",
        "q3_plot(replications, meantime, num_sim)"
      ],
      "metadata": {
        "colab": {
          "base_uri": "https://localhost:8080/",
          "height": 872
        },
        "id": "9frd22lUXLpg",
        "outputId": "a5486a15-fa2b-406d-b420-1a47f2717c94"
      },
      "execution_count": 12,
      "outputs": [
        {
          "output_type": "display_data",
          "data": {
            "text/plain": [
              "<Figure size 1000x1000 with 1 Axes>"
            ],
            "image/png": "[encoded data removed]"
          },
          "metadata": {}
        }
      ]
    },
    {
      "cell_type": "markdown",
      "source": [
        "___\n",
        "**(c)** Hopefully you found the previous part a little surprising(?) Why is that the case? Well, this question highlights an important aspect of simulation that we have taken for granted in past problems -- in order to get an estimator for an unknown quantity, we *need that quantity to be finite*! Find an expression for computing the expected number of queries till we get one which is larger in the above setting, and argue that it is infinite.\n",
        "\n",
        "*Hint: Remember how we used linearity of expectation and indicator random variables before? Try doing the same, with indicator variables for the $i^{th}$ person (for each $i\\in\\{1,2,\\ldots\\}$) being the first person surveyed who took longer than you).*\n",
        "___\n"
      ],
      "metadata": {
        "id": "9NNPvFQY0HM4"
      }
    },
    {
      "cell_type": "markdown",
      "source": [
        "## Ans.\n",
        "\n",
        "$X_{i}$ - binary r.v. ($X_i = 1$ if the ith person surveyed took longer and $X_{i}$ = 0 if ith person took the same amount of time as you or shorter).\n",
        "\n",
        "The CDF of the Exponential Distribution gives the probability of the ith person taking longer than you:\n",
        "\n",
        "\n",
        "$P(T_{i} > T_{0}) = P(X_{i} = 1) = \\int_{0}^{\\infty} P(T_{i} > T_{0} | T_{0} = t) \\cdot P(T_{0} = t) \\,dt $\n",
        "\n",
        "\n",
        "$T_{0}$ follows the Expo($\\lambda = 2$) distribution, therefore:\n",
        "$P(T_{0} = t) = 2e^{-2t}$.\n",
        "\n",
        "And thus,\n",
        "\n",
        "$P(T_i > T_0 | T_0 = t) = e^{-2t}$\n",
        "\n",
        "Therefore, we find:\n",
        "\n",
        "\\\n",
        "\\begin{align*}\n",
        "P(X_i = 1) & = \\int_{0}^{\\infty} P(T_i > T_0 | T_0 = t) \\cdot f(t) \\,dt \\\\\n",
        "& = \\int_{0}^{\\infty} e^{-2t} \\cdot 2e^{-2t} \\,dt \\\\\n",
        "& = \\frac{1}{2}\n",
        "\\end{align*}\n",
        "\n",
        "\n",
        "Now, using linearity of expectation, the expected number of queries until we find a person who took longer than you is given by:\n",
        "\n",
        "\n",
        "$E\\left(\\sum_{i=1}^{\\infty} X_{i}\\right) = \\sum_{i=1}^{\\infty} E(X_{i}) = \\sum_{i=1}^{\\infty} \\frac{1}{2} = \\infty$\n",
        "\n",
        "Therefore, the expected number of queries until we find a person who took longer than you is infinite, which checks out logically."
      ],
      "metadata": {
        "id": "g2AJuYY20z1W"
      }
    },
    {
      "cell_type": "code",
      "source": [],
      "metadata": {
        "id": "6lHPYQq-Q2Fz"
      },
      "execution_count": null,
      "outputs": []
    }
  ],
  "metadata": {
    "kernelspec": {
      "display_name": "Python 3",
      "language": "python",
      "name": "python3"
    },
    "language_info": {
      "codemirror_mode": {
        "name": "ipython",
        "version": 3
      },
      "file_extension": ".py",
      "mimetype": "text/x-python",
      "name": "python",
      "nbconvert_exporter": "python",
      "pygments_lexer": "ipython3",
      "version": "3.6.4"
    },
    "colab": {
      "provenance": [],
      "include_colab_link": true
    }
  },
  "nbformat": 4,
  "nbformat_minor": 0
}